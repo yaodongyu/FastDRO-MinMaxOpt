{
 "cells": [
  {
   "cell_type": "markdown",
   "metadata": {},
   "source": [
    "# Compare Standard and Distributionally Robust Logistic Regression"
   ]
  },
  {
   "cell_type": "code",
   "execution_count": 1,
   "metadata": {},
   "outputs": [],
   "source": [
    "import numpy as np\n",
    "import matplotlib.pyplot as plt\n",
    "from numpy import linalg as LA\n",
    "import argparse"
   ]
  },
  {
   "cell_type": "markdown",
   "metadata": {},
   "source": [
    "## Generate Training and Test Data"
   ]
  },
  {
   "cell_type": "code",
   "execution_count": 2,
   "metadata": {},
   "outputs": [],
   "source": [
    "# Set number of samples\n",
    "N = 500\n",
    "N_test = 100\n",
    "# Set the dimension\n",
    "d = 50\n",
    "\n",
    "# Noise parameter\n",
    "noise_param = 0.01\n",
    "\n",
    "# Generate ground truth theta_ground_truth\n",
    "theta_ground_truth = np.random.randn(d, 1)\n",
    "\n",
    "# Generate training data matrix X_train\n",
    "X_train = np.random.randn(N, d)\n",
    "# Generate outputs y_train\n",
    "y_train = np.sign(X_train @ theta_ground_truth + noise_param * np.random.randn(N, 1))\n",
    "\n",
    "# Generate training data matrix X_train\n",
    "X_test = np.random.randn(N_test, d)\n",
    "# Generate outputs y_train\n",
    "y_test = np.sign(X_test @ theta_ground_truth + noise_param * np.random.randn(N_test, 1))\n",
    "\n",
    "\n",
    "# Adding one more dimension for the bias term\n",
    "X_train_aug = np.concatenate((X_train, np.ones((N, 1))), axis=1)\n",
    "X_test_aug = np.concatenate((X_test, np.ones((N_test, 1))), axis=1)"
   ]
  },
  {
   "cell_type": "markdown",
   "metadata": {},
   "source": [
    "## Standard Logistic Regression"
   ]
  },
  {
   "cell_type": "code",
   "execution_count": 3,
   "metadata": {},
   "outputs": [
    {
     "name": "stderr",
     "output_type": "stream",
     "text": [
      "/opt/anaconda3/lib/python3.8/site-packages/sklearn/utils/validation.py:73: DataConversionWarning: A column-vector y was passed when a 1d array was expected. Please change the shape of y to (n_samples, ), for example using ravel().\n",
      "  return f(**kwargs)\n"
     ]
    },
    {
     "name": "stdout",
     "output_type": "stream",
     "text": [
      "Standard Logistic Regression Classification accuracy: 99.0%\n"
     ]
    }
   ],
   "source": [
    "from sklearn.linear_model import LogisticRegression\n",
    "clf = LogisticRegression(C=10.0, random_state=0).fit(X_train_aug, y_train)\n",
    "# Where C is equal to the inverse of the L2 regularization, i.e., logistic loss + (1/C) * L2 regularization\n",
    "print('Standard Logistic Regression Classification accuracy: {}%'.format(100. *clf.score(X_test_aug, np.squeeze(y_test, axis=1))))"
   ]
  },
  {
   "cell_type": "markdown",
   "metadata": {},
   "source": [
    "## Distributionally Robust Logistic Regression"
   ]
  },
  {
   "cell_type": "code",
   "execution_count": 6,
   "metadata": {},
   "outputs": [
    {
     "name": "stdout",
     "output_type": "stream",
     "text": [
      "X_train shape:  (500, 51)\n",
      "y_train shape:  (500, 1)\n",
      "y values:  [-1.  1.]\n",
      "DRO parameter: kappa=1.0, epsilon=0.1\n",
      "====================================\n",
      "finished training\n",
      "====================================\n"
     ]
    },
    {
     "data": {
      "image/png": "[encoded data removed]",
      "text/plain": [
       "<Figure size 432x288 with 1 Axes>"
      ]
     },
     "metadata": {
      "needs_background": "light"
     },
     "output_type": "display_data"
    },
    {
     "name": "stdout",
     "output_type": "stream",
     "text": [
      "0.6041466933060113\n",
      "Distributionally Robust Logistic Regression Classification accuracy: 93.0%\n"
     ]
    }
   ],
   "source": [
    "from SEG_randomreshuffle import dro_solver\n",
    "beta_dro, plot_n, dro_losses, dro_losses_bar = dro_solver(X_train_aug, \n",
    "                                                          y_train, \n",
    "                                                          kappa=1.0, \n",
    "                                                          epsilon=0.1, \n",
    "                                                          eta=0.1, \n",
    "                                                          batch_size=128, \n",
    "                                                          EPOCH=5000)\n",
    "# where we describe the hyper parameters as follows:\n",
    "# kappa - kappa parameter in DRO\n",
    "# epsilon - epsilon parameter in DRO\n",
    "# eta - step size\n",
    "# batch size - mini-batch size \n",
    "# EPOCH - number of epochs for optimizing the DRO objective\n",
    "\n",
    "\n",
    "print('finished training')\n",
    "print('====================================')\n",
    "\n",
    "plt.rc('text', usetex=True)\n",
    "plt.rc('font', family='serif')\n",
    "plt.figure()\n",
    "plt.semilogy(plot_n, dro_losses, '--', label='SERR', color='royalblue')\n",
    "plt.semilogy(plot_n, dro_losses_bar, '--', label='SERR (avg)', color='coral')\n",
    "plt.axis('tight')\n",
    "plt.title('Loss v.s. Epoch', fontsize='16')\n",
    "plt.xlabel(\"Epoch\", fontsize='16')\n",
    "plt.ylabel('Function value', fontsize='16')\n",
    "plt.legend()\n",
    "plt.show()\n",
    "\n",
    "print(dro_losses[-1])\n",
    "from sklearn.metrics import accuracy_score\n",
    "y_predict_dro = np.sign(X_test_aug@beta_dro)\n",
    "print('Distributionally Robust Logistic Regression Classification accuracy: {}%'.format(100. * accuracy_score(y_test, y_predict_dro)))"
   ]
  },
  {
   "cell_type": "code",
   "execution_count": null,
   "metadata": {},
   "outputs": [],
   "source": []
  }
 ],
 "metadata": {
  "kernelspec": {
   "display_name": "Python 3",
   "language": "python",
   "name": "python3"
  },
  "language_info": {
   "codemirror_mode": {
    "name": "ipython",
    "version": 3
   },
   "file_extension": ".py",
   "mimetype": "text/x-python",
   "name": "python",
   "nbconvert_exporter": "python",
   "pygments_lexer": "ipython3",
   "version": "3.8.3"
  }
 },
 "nbformat": 4,
 "nbformat_minor": 4
}
